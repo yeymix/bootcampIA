{
 "cells": [
  {
   "cell_type": "code",
   "execution_count": 1,
   "metadata": {},
   "outputs": [],
   "source": [
    "import numpy as np\n",
    "import pandas as pd\n",
    "import matplotlib.pyplot as plt\n",
    "# División conjunto de entrenamiento\n",
    "from sklearn.model_selection import train_test_split\n",
    "from sklearn.linear_model import LogisticRegression # Biblioteca para usar regresiones logísticas\n",
    "from sklearn.metrics import accuracy_score,confusion_matrix # librería necesaria para calcular la matriz de confusión."
   ]
  },
  {
   "cell_type": "code",
   "execution_count": 2,
   "metadata": {},
   "outputs": [],
   "source": [
    "data = {\n",
    "    'edad':[55,45,65,50,70,40,60],\n",
    "    'presion_arterial':[140,120,150,130,160,110,145],\n",
    "    'nivel_colesterol':[230,190,250,200,260,180,240],\n",
    "    'frecuencia_cardiaca':[80,70,85,75,90,65,80],\n",
    "    'enfermedad_cardiaca':[1,0,1,0,1,0,1]\n",
    "}\n",
    "\n",
    "df = pd.DataFrame(data)\n",
    "\n",
    "#X = df[['edad','presion_arterial','nivel_colesterol','frecuencia_cardiaca']]\n",
    "X = df[['edad','presion_arterial','nivel_colesterol','frecuencia_cardiaca']]\n",
    "y = df['enfermedad_cardiaca']"
   ]
  },
  {
   "cell_type": "code",
   "execution_count": 5,
   "metadata": {},
   "outputs": [],
   "source": [
    "X_train,X_test,y_train,y_test=train_test_split(X,y,test_size=0.3,random_state=32)"
   ]
  },
  {
   "cell_type": "code",
   "execution_count": 6,
   "metadata": {},
   "outputs": [],
   "source": [
    "model=LogisticRegression()\n",
    "model.fit(X_train,y_train)\n",
    "y_pred=model.predict(X_test)"
   ]
  },
  {
   "cell_type": "code",
   "execution_count": 7,
   "metadata": {},
   "outputs": [
    {
     "name": "stdout",
     "output_type": "stream",
     "text": [
      "Matriz de confusión:\n",
      "[[1 0]\n",
      " [0 2]]\n"
     ]
    }
   ],
   "source": [
    "conf_matrix=confusion_matrix(y_test,y_pred)\n",
    "print(f'Matriz de confusión:\\n{conf_matrix}')"
   ]
  },
  {
   "cell_type": "code",
   "execution_count": 17,
   "metadata": {},
   "outputs": [
    {
     "name": "stdout",
     "output_type": "stream",
     "text": [
      "   edad  presion_arterial  nivel_colesterol  frecuencia_cardiaca\n",
      "6    60               145               240                   80\n",
      "1    45               120               190                   70\n",
      "0    55               140               230                   80\n"
     ]
    }
   ],
   "source": [
    "print(X_test)"
   ]
  },
  {
   "cell_type": "code",
   "execution_count": 31,
   "metadata": {},
   "outputs": [
    {
     "data": {
      "text/html": [
       "<div>\n",
       "<style scoped>\n",
       "    .dataframe tbody tr th:only-of-type {\n",
       "        vertical-align: middle;\n",
       "    }\n",
       "\n",
       "    .dataframe tbody tr th {\n",
       "        vertical-align: top;\n",
       "    }\n",
       "\n",
       "    .dataframe thead th {\n",
       "        text-align: right;\n",
       "    }\n",
       "</style>\n",
       "<table border=\"1\" class=\"dataframe\">\n",
       "  <thead>\n",
       "    <tr style=\"text-align: right;\">\n",
       "      <th></th>\n",
       "      <th>edad</th>\n",
       "      <th>presion_arterial</th>\n",
       "      <th>nivel_colesterol</th>\n",
       "      <th>frecuencia_cardiaca</th>\n",
       "      <th>valor_predicho</th>\n",
       "      <th>valor_real</th>\n",
       "    </tr>\n",
       "  </thead>\n",
       "  <tbody>\n",
       "    <tr>\n",
       "      <th>6</th>\n",
       "      <td>60</td>\n",
       "      <td>145</td>\n",
       "      <td>240</td>\n",
       "      <td>80</td>\n",
       "      <td>1</td>\n",
       "      <td>1</td>\n",
       "    </tr>\n",
       "    <tr>\n",
       "      <th>1</th>\n",
       "      <td>45</td>\n",
       "      <td>120</td>\n",
       "      <td>190</td>\n",
       "      <td>70</td>\n",
       "      <td>0</td>\n",
       "      <td>0</td>\n",
       "    </tr>\n",
       "    <tr>\n",
       "      <th>0</th>\n",
       "      <td>55</td>\n",
       "      <td>140</td>\n",
       "      <td>230</td>\n",
       "      <td>80</td>\n",
       "      <td>1</td>\n",
       "      <td>1</td>\n",
       "    </tr>\n",
       "  </tbody>\n",
       "</table>\n",
       "</div>"
      ],
      "text/plain": [
       "   edad  presion_arterial  nivel_colesterol  frecuencia_cardiaca  \\\n",
       "6    60               145               240                   80   \n",
       "1    45               120               190                   70   \n",
       "0    55               140               230                   80   \n",
       "\n",
       "   valor_predicho  valor_real  \n",
       "6               1           1  \n",
       "1               0           0  \n",
       "0               1           1  "
      ]
     },
     "execution_count": 31,
     "metadata": {},
     "output_type": "execute_result"
    }
   ],
   "source": [
    "tabla_com = {\n",
    "    'edad':X_test['edad'],\n",
    "    'presion_arterial':X_test['presion_arterial'],\n",
    "    'nivel_colesterol':X_test['nivel_colesterol'],\n",
    "    'frecuencia_cardiaca':X_test['frecuencia_cardiaca'],\n",
    "    'valor_predicho':y_pred,\n",
    "    'valor_real':y_test\n",
    "}\n",
    "compare = pd.DataFrame(tabla_com)\n",
    "compare\n"
   ]
  },
  {
   "cell_type": "code",
   "execution_count": 9,
   "metadata": {},
   "outputs": [
    {
     "name": "stdout",
     "output_type": "stream",
     "text": [
      "Precisión del modelo: 100.00%\n"
     ]
    }
   ],
   "source": [
    "accuracy=accuracy_score(y_test,y_pred)\n",
    "print(f'Precisión del modelo: {accuracy*100:.2f}%')"
   ]
  },
  {
   "cell_type": "code",
   "execution_count": 11,
   "metadata": {},
   "outputs": [
    {
     "name": "stdout",
     "output_type": "stream",
     "text": [
      "Riesgo de sufrir enfermedad cardiaca: 4.90%\n"
     ]
    },
    {
     "name": "stderr",
     "output_type": "stream",
     "text": [
      "c:\\Users\\AMARU\\anaconda3\\envs\\Python_DS_ML\\Lib\\site-packages\\sklearn\\base.py:493: UserWarning: X does not have valid feature names, but LogisticRegression was fitted with feature names\n",
      "  warnings.warn(\n"
     ]
    }
   ],
   "source": [
    "edad=57\n",
    "presion_arterial=160\n",
    "nivel_colesterol=200\n",
    "frecuencia_cardiaca=80\n",
    "ries_enfermedad_cardiaca=model.predict_proba([[edad,presion_arterial,nivel_colesterol,frecuencia_cardiaca]])[0][1]\n",
    "print(f'Riesgo de sufrir enfermedad cardiaca: {ries_enfermedad_cardiaca*100:.2f}%')\n"
   ]
  }
 ],
 "metadata": {
  "kernelspec": {
   "display_name": "Python_DS_ML",
   "language": "python",
   "name": "python3"
  },
  "language_info": {
   "codemirror_mode": {
    "name": "ipython",
    "version": 3
   },
   "file_extension": ".py",
   "mimetype": "text/x-python",
   "name": "python",
   "nbconvert_exporter": "python",
   "pygments_lexer": "ipython3",
   "version": "3.12.3"
  }
 },
 "nbformat": 4,
 "nbformat_minor": 2
}
