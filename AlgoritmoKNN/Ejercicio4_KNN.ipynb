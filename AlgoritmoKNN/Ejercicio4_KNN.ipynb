{
  "cells": [
    {
      "cell_type": "code",
      "execution_count": 5,
      "metadata": {
        "id": "-liR3j2iv5LF"
      },
      "outputs": [],
      "source": [
        "import pandas as pd\n",
        "import numpy as np\n",
        "from sklearn.datasets import make_classification\n",
        "from sklearn.neighbors import KNeighborsClassifier\n",
        "from scipy.spatial import distance\n",
        "from collections import Counter\n",
        "from numpy import dot\n",
        "from numpy.linalg import norm\n"
      ]
    },
    {
      "cell_type": "code",
      "execution_count": 6,
      "metadata": {
        "colab": {
          "base_uri": "https://localhost:8080/"
        },
        "id": "FJLNQ_OEw7sa",
        "outputId": "853c73ec-f768-48d9-cd27-74cc93312be4"
      },
      "outputs": [
        {
          "name": "stdout",
          "output_type": "stream",
          "text": [
            "[0.26726124 0.3086067  0.50395263 0.69368798 0.71428571 0.75592895\n",
            " 0.84515425 0.87287156 0.94491118]\n",
            "[0.26726124 0.3086067  0.50395263 0.69368798]\n"
          ]
        }
      ],
      "source": [
        "tweets = {\n",
        "    'Tweet A': np.array([1, 2, 0, 1, 1]),\n",
        "    'Tweet B': np.array([2, 0, 1, 0, 2]),\n",
        "    'Tweet C': np.array([1, 1, 0, 1, 0]),\n",
        "    'Tweet D': np.array([0, 1, 1, 2, 1]),\n",
        "    'Tweet E': np.array([3, 1, 0, 0, 3]),\n",
        "    'Tweet F': np.array([0, 2, 1, 0, 2]),\n",
        "    'Tweet G': np.array([1, 0, 2, 1, 0]),\n",
        "    'Tweet H': np.array([1, 1, 1, 1, 1]),\n",
        "    'Tweet I': np.array([2, 2, 0, 2, 2]),\n",
        "    'Tweet J': np.array([0, 0, 1, 1, 0])\n",
        " }\n",
        "df = pd.DataFrame(tweets)\n",
        "knn = KNeighborsClassifier(n_neighbors=3)\n",
        "\n",
        "List1 = np.array([tweets['Tweet B'], tweets['Tweet C'], tweets['Tweet D'], tweets['Tweet E'], tweets['Tweet F'], tweets['Tweet G'], tweets['Tweet H'], tweets['Tweet I'], tweets['Tweet J']])\n",
        "List2 = np.array([1, 2, 0, 1, 1])\n",
        "similarity_scores = List1.dot(List2) / (\n",
        "    np.linalg.norm(List1, axis=1) * np.linalg.norm(List2)\n",
        ")\n",
        "#similar1 = similarity_scores.sort()\n",
        "#print(similarity_scores.sort())\n",
        "similarity_scores.sort()\n",
        "print(similarity_scores)\n",
        "x = similarity_scores[slice(4)]\n",
        "print(x)\n",
        "\n"
      ]
    }
  ],
  "metadata": {
    "colab": {
      "provenance": []
    },
    "kernelspec": {
      "display_name": "Python 3",
      "name": "python3"
    },
    "language_info": {
      "codemirror_mode": {
        "name": "ipython",
        "version": 3
      },
      "file_extension": ".py",
      "mimetype": "text/x-python",
      "name": "python",
      "nbconvert_exporter": "python",
      "pygments_lexer": "ipython3",
      "version": "3.12.3"
    }
  },
  "nbformat": 4,
  "nbformat_minor": 0
}
